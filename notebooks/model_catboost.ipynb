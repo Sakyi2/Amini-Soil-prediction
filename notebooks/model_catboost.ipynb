{
 "cells": [
  {
   "cell_type": "markdown",
   "id": "18446d82",
   "metadata": {},
   "source": [
    "### **CatBoost Model with Hyperparameter Tuning**\n",
    "\n",
    "CatBoost is especially good at handling categorical features with minimal preprocessing, and often achieves high performance out-of-the-box."
   ]
  },
  {
   "cell_type": "code",
   "execution_count": 8,
   "id": "ecd544e2",
   "metadata": {},
   "outputs": [
    {
     "name": "stderr",
     "output_type": "stream",
     "text": [
      "C:\\Users\\creed\\AppData\\Local\\Packages\\PythonSoftwareFoundation.Python.3.11_qbz5n2kfra8p0\\LocalCache\\local-packages\\Python311\\site-packages\\tqdm\\auto.py:21: TqdmWarning: IProgress not found. Please update jupyter and ipywidgets. See https://ipywidgets.readthedocs.io/en/stable/user_install.html\n",
      "  from .autonotebook import tqdm as notebook_tqdm\n"
     ]
    }
   ],
   "source": [
    "\n",
    "from sklearn.linear_model import LinearRegression\n",
    "from sklearn.model_selection import KFold\n",
    "import catboost as cb\n",
    "import time\n",
    "import optuna\n",
    "import joblib # for saving the model\n",
    "import xgboost as xgb\n",
    "import pandas as pd\n",
    "import numpy as np\n",
    "import matplotlib.pyplot as plt\n",
    "import seaborn as sns\n",
    "from sklearn.model_selection import train_test_split\n",
    "from sklearn.preprocessing import StandardScaler\n",
    "from sklearn.multioutput import MultiOutputRegressor\n",
    "from sklearn.ensemble import RandomForestRegressor\n",
    "from sklearn.metrics import mean_absolute_error, mean_squared_error\n",
    "\n",
    "import warnings\n",
    "warnings.filterwarnings('ignore')"
   ]
  },
  {
   "cell_type": "markdown",
   "id": "e92e9c4b",
   "metadata": {},
   "source": [
    "LETS EXPLORE THE DATA TO AN ADVANCE LEVEL"
   ]
  },
  {
   "cell_type": "code",
   "execution_count": 9,
   "id": "68deceaf",
   "metadata": {},
   "outputs": [
    {
     "name": "stdout",
     "output_type": "stream",
     "text": [
      "X_train shape: (6195, 31)\n",
      "y_train shape: (6195, 11)\n"
     ]
    }
   ],
   "source": [
    "X = pd.read_csv('X_processed.csv')\n",
    "X_test = pd.read_csv('X_test_processed.csv')\n",
    "y = pd.read_csv('y_processed.csv')\n",
    "\n",
    "# Drop if still in the data\n",
    "if 'PID' in X.columns:\n",
    "    X = X.drop(columns=['PID'])\n",
    "if 'site' in X.columns:\n",
    "    X = X.drop(columns=['site'])\n",
    "\n",
    "if 'PID' in X_test.columns:\n",
    "    X_test = X_test.drop(columns=['PID'])\n",
    "if 'site' in X_test.columns:\n",
    "    X_test = X_test.drop(columns=['site'])\n",
    "\n",
    "\n",
    "#split the data into training and validation sets \n",
    "X_train, X_val, y_train, y_val = train_test_split(X, y, test_size=0.2, random_state=42)\n",
    "\n",
    "print(\"X_train shape:\", X_train.shape)\n",
    "print(\"y_train shape:\", y_train.shape)\n"
   ]
  },
  {
   "cell_type": "code",
   "execution_count": 12,
   "id": "c8542c8a",
   "metadata": {},
   "outputs": [],
   "source": [
    "def evaluate_model(model,X_train,y_train,X_val,y_val,model_name,):\n",
    "      #tracking training time \n",
    "    StartTime = time.time()\n",
    "    \n",
    "    #fit the model\n",
    "    model.fit(X_train,y_train)\n",
    "\n",
    "    #trainin the time\n",
    "    trainTime = time.time()-StartTime\n",
    "\n",
    "    #prediction\n",
    "    y_pred_train = model.predict(X_train)\n",
    "    y_pred_val = model.predict(X_val)\n",
    "\n",
    "\n",
    "    #check the errors\n",
    "    train_mae = mean_absolute_error(y_train,y_pred_train)\n",
    "    val_mae = mean_absolute_error(y_val,y_pred_val)\n",
    "\n",
    "\n",
    "    #check the RMSE\n",
    "    train_rmse = np.sqrt(mean_squared_error(y_train,y_pred_train))\n",
    "    val_rmse = np.sqrt(mean_squared_error(y_val,y_pred_val))\n",
    "   \n",
    " \n",
    "     # Print results\n",
    "    print(f\"\\n{model_name} Results:\")\n",
    "    print(f\"Training Time: {trainTime:.2f} seconds\")\n",
    "    print(f\"Training MAE: {train_mae:.4f}, RMSE: {train_rmse:.4f}\")\n",
    "    print(f\"Validation MAE: {val_mae:.4f}, RMSE: {val_rmse:.4f}\")\n",
    "\n",
    "    # Return the results\n",
    "    return {\n",
    "        'model': model,\n",
    "        'name': model_name,\n",
    "        'train_mae': train_mae,\n",
    "        'val_mae': val_mae,\n",
    "        'train_rmse': train_rmse,\n",
    "        'val_rmse': val_rmse,\n",
    "        'train_time': trainTime\n",
    "    }\n",
    "\n",
    "\n",
    "\n"
   ]
  },
  {
   "cell_type": "code",
   "execution_count": 14,
   "id": "72f776c3",
   "metadata": {},
   "outputs": [],
   "source": [
    "# Define objective function for CatBoost hyperparameter tuning\n",
    "\n",
    "def get_objective_cb(X_train, y_train, X_val, y_val):\n",
    "  def objective_cb(trial):\n",
    "    # Define hyperparameters to tune\n",
    "    params = {\n",
    "        'iterations': trial.suggest_int('iterations', 50, 500),\n",
    "        'depth': trial.suggest_int('depth', 4, 10),\n",
    "        'learning_rate': trial.suggest_float('learning_rate', 0.01, 0.3),\n",
    "        'l2_leaf_reg': trial.suggest_float('l2_leaf_reg', 1, 10),\n",
    "        'random_strength': trial.suggest_float('random_strength', 0.1, 10),\n",
    "        'bagging_temperature': trial.suggest_float('bagging_temperature', 0, 10),\n",
    "        'border_count': trial.suggest_int('border_count', 32, 255),\n",
    "        'random_seed': 42,\n",
    "        'verbose': False\n",
    "    }\n",
    "    \n",
    "    # Create CatBoost MultiOutputRegressor\n",
    "    cb_model = MultiOutputRegressor(cb.CatBoostRegressor(**params))\n",
    "    \n",
    "    # Train the model\n",
    "    cb_model.fit(X_train, y_train)\n",
    "    \n",
    "    # Make predictions\n",
    "    y_pred = cb_model.predict(X_val)\n",
    "    \n",
    "    # Calculate MAE\n",
    "    mae = mean_absolute_error(y_val, y_pred)\n",
    "    \n",
    "    return mae\n",
    "  return objective_cb\n"
   ]
  },
  {
   "cell_type": "code",
   "execution_count": 15,
   "id": "46c8c4fe",
   "metadata": {},
   "outputs": [
    {
     "name": "stderr",
     "output_type": "stream",
     "text": [
      "[I 2025-07-28 01:30:36,090] A new study created in memory with name: no-name-db75eba3-da13-429f-b5a2-55ceddfc4d33\n"
     ]
    },
    {
     "name": "stdout",
     "output_type": "stream",
     "text": [
      "Tuning CatBoost hyperparameters...\n"
     ]
    },
    {
     "name": "stderr",
     "output_type": "stream",
     "text": [
      "[I 2025-07-28 01:31:32,226] Trial 0 finished with value: 196.09216792231825 and parameters: {'iterations': 228, 'depth': 7, 'learning_rate': 0.013592308776644446, 'l2_leaf_reg': 9.107069390683748, 'random_strength': 6.08636489689598, 'bagging_temperature': 8.619302345109665, 'border_count': 166}. Best is trial 0 with value: 196.09216792231825.\n",
      "[I 2025-07-28 01:31:51,869] Trial 1 finished with value: 164.27686954645102 and parameters: {'iterations': 181, 'depth': 5, 'learning_rate': 0.26352481047899995, 'l2_leaf_reg': 3.4421764403593578, 'random_strength': 0.685174831713475, 'bagging_temperature': 2.325972510658554, 'border_count': 81}. Best is trial 1 with value: 164.27686954645102.\n",
      "[I 2025-07-28 01:32:36,146] Trial 2 finished with value: 163.36552804243647 and parameters: {'iterations': 304, 'depth': 7, 'learning_rate': 0.21245097440488545, 'l2_leaf_reg': 4.2024436282738, 'random_strength': 6.373694506837399, 'bagging_temperature': 7.3978419762545595, 'border_count': 85}. Best is trial 2 with value: 163.36552804243647.\n",
      "[I 2025-07-28 01:33:16,742] Trial 3 finished with value: 176.47783175973666 and parameters: {'iterations': 370, 'depth': 6, 'learning_rate': 0.019149148931911546, 'l2_leaf_reg': 5.2193445394938465, 'random_strength': 5.994573953481021, 'bagging_temperature': 0.07658519011858211, 'border_count': 95}. Best is trial 2 with value: 163.36552804243647.\n",
      "[I 2025-07-28 01:34:29,882] Trial 4 finished with value: 168.01162048910064 and parameters: {'iterations': 176, 'depth': 9, 'learning_rate': 0.24524539628284686, 'l2_leaf_reg': 1.424370761901812, 'random_strength': 7.858755865781828, 'bagging_temperature': 5.428080751791006, 'border_count': 98}. Best is trial 2 with value: 163.36552804243647.\n",
      "[I 2025-07-28 01:35:08,904] Trial 5 finished with value: 167.1076357672546 and parameters: {'iterations': 342, 'depth': 5, 'learning_rate': 0.2608026229731679, 'l2_leaf_reg': 3.0953102379647097, 'random_strength': 5.664534357256656, 'bagging_temperature': 5.984634109012931, 'border_count': 195}. Best is trial 2 with value: 163.36552804243647.\n",
      "[I 2025-07-28 01:37:54,881] Trial 6 finished with value: 161.37330445511608 and parameters: {'iterations': 307, 'depth': 9, 'learning_rate': 0.16676045094279907, 'l2_leaf_reg': 9.555137089691323, 'random_strength': 8.647250489945352, 'bagging_temperature': 1.8022011667193139, 'border_count': 225}. Best is trial 6 with value: 161.37330445511608.\n",
      "[I 2025-07-28 01:39:50,893] Trial 7 finished with value: 159.01367684587993 and parameters: {'iterations': 201, 'depth': 10, 'learning_rate': 0.13951721250716237, 'l2_leaf_reg': 6.903741322341244, 'random_strength': 9.16915561060852, 'bagging_temperature': 4.422016354727651, 'border_count': 102}. Best is trial 7 with value: 159.01367684587993.\n",
      "[I 2025-07-28 01:40:09,319] Trial 8 finished with value: 166.07868481356306 and parameters: {'iterations': 243, 'depth': 4, 'learning_rate': 0.2106156175338942, 'l2_leaf_reg': 1.288152960530546, 'random_strength': 6.5355725968734975, 'bagging_temperature': 8.417625705902791, 'border_count': 225}. Best is trial 7 with value: 159.01367684587993.\n",
      "[I 2025-07-28 01:40:21,950] Trial 9 finished with value: 183.02140390729713 and parameters: {'iterations': 75, 'depth': 8, 'learning_rate': 0.0469469449064221, 'l2_leaf_reg': 5.238791294700391, 'random_strength': 3.647083435325784, 'bagging_temperature': 7.15017740626056, 'border_count': 72}. Best is trial 7 with value: 159.01367684587993.\n"
     ]
    },
    {
     "name": "stdout",
     "output_type": "stream",
     "text": [
      "Best CatBoost Parameters: {'iterations': 201, 'depth': 10, 'learning_rate': 0.13951721250716237, 'l2_leaf_reg': 6.903741322341244, 'random_strength': 9.16915561060852, 'bagging_temperature': 4.422016354727651, 'border_count': 102}\n",
      "Best CatBoost MAE: 159.01367684587993\n",
      "\n",
      "CatBoost Results:\n",
      "Training Time: 109.33 seconds\n",
      "Training MAE: 86.2613, RMSE: 230.5522\n",
      "Validation MAE: 159.0137, RMSE: 480.1490\n"
     ]
    }
   ],
   "source": [
    "\n",
    "# Run the hyperparameter optimization\n",
    "print(\"Tuning CatBoost hyperparameters...\")\n",
    "\n",
    "study_cb = optuna.create_study(direction='minimize')\n",
    "objective = get_objective_cb(X_train, y_train, X_val, y_val)\n",
    "study_cb.optimize(objective, n_trials=10)  # Adjust n_trials as needed\n",
    "\n",
    "print(\"Best CatBoost Parameters:\", study_cb.best_params)\n",
    "print(\"Best CatBoost MAE:\", study_cb.best_value)\n",
    "\n",
    "# Create the optimized CatBoost model\n",
    "best_cb_model = MultiOutputRegressor(cb.CatBoostRegressor(**study_cb.best_params, random_seed=42, verbose=False))\n",
    "\n",
    "# Evaluate CatBoost model\n",
    "cb_results = evaluate_model(best_cb_model, X_train, y_train, X_val, y_val, \"CatBoost\")"
   ]
  },
  {
   "cell_type": "code",
   "execution_count": 16,
   "id": "17b94d3d",
   "metadata": {},
   "outputs": [],
   "source": [
    "import pickle\n",
    "\n",
    "with open(\"cb_results.pkl\", \"wb\") as f:\n",
    "    pickle.dump(cb_results, f)\n"
   ]
  }
 ],
 "metadata": {
  "kernelspec": {
   "display_name": "Python 3",
   "language": "python",
   "name": "python3"
  },
  "language_info": {
   "codemirror_mode": {
    "name": "ipython",
    "version": 3
   },
   "file_extension": ".py",
   "mimetype": "text/x-python",
   "name": "python",
   "nbconvert_exporter": "python",
   "pygments_lexer": "ipython3",
   "version": "3.11.9"
  }
 },
 "nbformat": 4,
 "nbformat_minor": 5
}
